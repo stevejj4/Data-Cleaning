{
  "nbformat": 4,
  "nbformat_minor": 0,
  "metadata": {
    "colab": {
      "provenance": [],
      "authorship_tag": "ABX9TyP8FH+/6t1vYeEBqysMDlQS",
      "include_colab_link": true
    },
    "kernelspec": {
      "name": "python3",
      "display_name": "Python 3"
    },
    "language_info": {
      "name": "python"
    }
  },
  "cells": [
    {
      "cell_type": "markdown",
      "metadata": {
        "id": "view-in-github",
        "colab_type": "text"
      },
      "source": [
        "<a href=\"https://colab.research.google.com/github/stevejj4/Data-Cleaning/blob/main/SUN_Report.ipynb\" target=\"_parent\"><img src=\"https://colab.research.google.com/assets/colab-badge.svg\" alt=\"Open In Colab\"/></a>"
      ]
    },
    {
      "cell_type": "code",
      "source": [
        "import pandas as pd\n",
        "from google.colab import auth\n",
        "import gspread\n",
        "from google.auth import default\n",
        "\n",
        "# Authorize Google Colab\n",
        "auth.authenticate_user()\n",
        "\n",
        "# Credentials for Google Sheets\n",
        "creds, _ = default()\n",
        "gc = gspread.authorize(creds)\n",
        "\n",
        "# Load the Google Sheet\n",
        "spreadsheet = gc.open('SUN_Dashboard')\n",
        "\n",
        "# Check if the sheet 'transformed' exists and create it if not\n",
        "try:\n",
        "    transformed_sheet = spreadsheet.worksheet('transformed')\n",
        "except gspread.exceptions.WorksheetNotFound:\n",
        "    transformed_sheet = spreadsheet.add_worksheet(title='transformed', rows=\"1000\", cols=\"20\")\n",
        "\n",
        "# Load the original data\n",
        "worksheet = spreadsheet.sheet1\n",
        "rows = worksheet.get_all_values()\n",
        "\n",
        "# Create DataFrame from the sheet data\n",
        "df = pd.DataFrame(rows)\n",
        "df.columns = df.iloc[0]  # Set the first row as column names\n",
        "df = df.iloc[1:]  # Remove the first row\n"
      ],
      "metadata": {
        "id": "XfrsavSRYRpR"
      },
      "execution_count": 38,
      "outputs": []
    },
    {
      "cell_type": "code",
      "source": [
        "df.shape"
      ],
      "metadata": {
        "colab": {
          "base_uri": "https://localhost:8080/"
        },
        "id": "0zv9NS0Bcjun",
        "outputId": "b2122308-c3fb-4b0b-db12-e4d1e03be985"
      },
      "execution_count": 40,
      "outputs": [
        {
          "output_type": "execute_result",
          "data": {
            "text/plain": [
              "(69, 21)"
            ]
          },
          "metadata": {},
          "execution_count": 40
        }
      ]
    },
    {
      "cell_type": "code",
      "source": [
        "# Reshape the data from wide to long format\n",
        "value_vars = ['Contribution', 'Compensation', 'Deaths']\n",
        "months = ['Jan', 'Feb', 'March', 'April', 'May']\n",
        "\n",
        "# Initialize an empty list to store the reshaped data\n",
        "reshaped_data = []\n",
        "\n",
        "# Iterate through each row in the DataFrame\n",
        "for _, row in df.iterrows():\n",
        "    for month in months:\n",
        "        reshaped_data.append({\n",
        "            'PAYBILL NO': row['PAYBILL NO'],\n",
        "            'SUB COUNTY': row['SUB COUNTY'],\n",
        "            'REGION': row['REGION'],\n",
        "            'Cluster': row['Cluster'],\n",
        "            'County': row['County'],\n",
        "            'Site': row['Site'],\n",
        "            'Month': month,\n",
        "            'Contribution': row[f'{month}_Contribution'],\n",
        "            'Compensation': row[f'{month}_Compensation'],\n",
        "            'Deaths_per_Month': row[f'{month}_deaths']\n",
        "        })\n",
        "\n",
        "# Create a new DataFrame from the reshaped data\n",
        "reshaped_df = pd.DataFrame(reshaped_data)\n",
        "\n",
        "# Convert the DataFrame to a list of lists\n",
        "reshaped_data_list = [reshaped_df.columns.values.tolist()] + reshaped_df.values.tolist()\n",
        "\n",
        "# Clear the 'transformed' sheet\n",
        "transformed_sheet.clear()\n",
        "\n",
        "# Write the reshaped DataFrame to the 'transformed' sheet\n",
        "transformed_sheet.update('A1', reshaped_data_list)\n",
        "\n",
        "# Print confirmation\n",
        "print('Data successfully loaded into the transformed sheet.')\n"
      ],
      "metadata": {
        "colab": {
          "base_uri": "https://localhost:8080/"
        },
        "id": "LAKm4AVebvNK",
        "outputId": "bec4e878-db28-4f6c-a104-c5aa2f05f899"
      },
      "execution_count": 37,
      "outputs": [
        {
          "output_type": "stream",
          "name": "stderr",
          "text": [
            "<ipython-input-37-c3032ec87045>:34: DeprecationWarning: The order of arguments in worksheet.update() has changed. Please pass values first and range_name secondor used named arguments (range_name=, values=)\n",
            "  transformed_sheet.update('A1', reshaped_data_list)\n"
          ]
        },
        {
          "output_type": "stream",
          "name": "stdout",
          "text": [
            "Data successfully loaded into the transformed sheet.\n"
          ]
        }
      ]
    },
    {
      "cell_type": "code",
      "source": [
        "reshaped_df.shape"
      ],
      "metadata": {
        "colab": {
          "base_uri": "https://localhost:8080/"
        },
        "id": "PeXuUBFUZFhw",
        "outputId": "5bd97f20-54ee-4879-cd32-101300a9e7d8"
      },
      "execution_count": 41,
      "outputs": [
        {
          "output_type": "execute_result",
          "data": {
            "text/plain": [
              "(345, 10)"
            ]
          },
          "metadata": {},
          "execution_count": 41
        }
      ]
    }
  ]
}