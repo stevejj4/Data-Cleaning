{
  "cells": [
    {
      "cell_type": "markdown",
      "metadata": {
        "id": "view-in-github",
        "colab_type": "text"
      },
      "source": [
        "<a href=\"https://colab.research.google.com/github/stevejj4/Data-Cleaning/blob/main/SUN_Report.ipynb\" target=\"_parent\"><img src=\"https://colab.research.google.com/assets/colab-badge.svg\" alt=\"Open In Colab\"/></a>"
      ]
    },
    {
      "cell_type": "code",
      "execution_count": 43,
      "metadata": {
        "id": "XfrsavSRYRpR"
      },
      "outputs": [],
      "source": [
        "import pandas as pd\n",
        "from google.colab import auth\n",
        "import gspread\n",
        "from google.auth import default\n",
        "\n",
        "# Authorize Google Colab\n",
        "auth.authenticate_user()\n",
        "\n",
        "# Credentials for Google Sheets\n",
        "creds, _ = default()\n",
        "gc = gspread.authorize(creds)\n",
        "\n",
        "# Load the Google Sheet\n",
        "spreadsheet = gc.open('SUN_Dashboard')\n",
        "\n",
        "# Check if the sheet 'transformed' exists and create it if not\n",
        "try:\n",
        "    transformed_sheet = spreadsheet.worksheet('transformed')\n",
        "except gspread.exceptions.WorksheetNotFound:\n",
        "    transformed_sheet = spreadsheet.add_worksheet(title='transformed', rows=\"1000\", cols=\"20\")\n",
        "\n",
        "# Load the original data\n",
        "worksheet = spreadsheet.sheet1\n",
        "rows = worksheet.get_all_values()\n",
        "\n",
        "# Create DataFrame from the sheet data\n",
        "df = pd.DataFrame(rows)\n",
        "df.columns = df.iloc[0]  # Set the first row as column names\n",
        "df = df.iloc[1:]  # Remove the first row\n"
      ]
    },
    {
      "cell_type": "code",
      "execution_count": 44,
      "metadata": {
        "colab": {
          "base_uri": "https://localhost:8080/"
        },
        "id": "0zv9NS0Bcjun",
        "outputId": "56e24aef-dc75-4de9-fc6a-c63e86b4e4ea"
      },
      "outputs": [
        {
          "output_type": "execute_result",
          "data": {
            "text/plain": [
              "(68, 21)"
            ]
          },
          "metadata": {},
          "execution_count": 44
        }
      ],
      "source": [
        "df.shape"
      ]
    },
    {
      "cell_type": "code",
      "execution_count": 45,
      "metadata": {
        "colab": {
          "base_uri": "https://localhost:8080/"
        },
        "id": "LAKm4AVebvNK",
        "outputId": "ba10d9b9-0aa8-4f29-9722-304d2eb7e955"
      },
      "outputs": [
        {
          "output_type": "stream",
          "name": "stderr",
          "text": [
            "<ipython-input-45-4bb9bf779074>:34: DeprecationWarning: The order of arguments in worksheet.update() has changed. Please pass values first and range_name secondor used named arguments (range_name=, values=)\n",
            "  transformed_sheet.update('A1', reshaped_data_list)\n"
          ]
        },
        {
          "output_type": "stream",
          "name": "stdout",
          "text": [
            "Data successfully loaded into the transformed sheet.\n"
          ]
        }
      ],
      "source": [
        "# Reshape the data from wide to long format\n",
        "value_vars = ['Contribution', 'Compensation', 'Deaths']\n",
        "months = ['January', 'February', 'March', 'April', 'May']\n",
        "\n",
        "# Initialize an empty list to store the reshaped data\n",
        "reshaped_data = []\n",
        "\n",
        "# Iterate through each row in the DataFrame\n",
        "for _, row in df.iterrows():\n",
        "    for month in months:\n",
        "        reshaped_data.append({\n",
        "            'PAYBILL NO': row['PAYBILL NO'],\n",
        "            'SUB COUNTY': row['SUB COUNTY'],\n",
        "            'REGION': row['REGION'],\n",
        "            'Cluster': row['Cluster'],\n",
        "            'County': row['County'],\n",
        "            'Site': row['Site'],\n",
        "            'Month': month,\n",
        "            'Contribution': row[f'{month}_Contribution'],\n",
        "            'Compensation': row[f'{month}_Compensation'],\n",
        "            'Deaths_per_Month': row[f'{month}_deaths']\n",
        "        })\n",
        "\n",
        "# Create a new DataFrame from the reshaped data\n",
        "reshaped_df = pd.DataFrame(reshaped_data)\n",
        "\n",
        "# Convert the DataFrame to a list of lists\n",
        "reshaped_data_list = [reshaped_df.columns.values.tolist()] + reshaped_df.values.tolist()\n",
        "\n",
        "# Clear the 'transformed' sheet\n",
        "transformed_sheet.clear()\n",
        "\n",
        "# Write the reshaped DataFrame to the 'transformed' sheet\n",
        "transformed_sheet.update('A1', reshaped_data_list)\n",
        "\n",
        "# Print confirmation\n",
        "print('Data successfully loaded into the transformed sheet.')\n"
      ]
    },
    {
      "cell_type": "code",
      "execution_count": 46,
      "metadata": {
        "id": "PeXuUBFUZFhw"
      },
      "outputs": [],
      "source": [
        "# Select the sheet named 'transformed'\n",
        "worksheet = spreadsheet.worksheet('transformed')\n",
        "\n",
        "# Get all the values from the sheet\n",
        "rows = worksheet.get_all_values()\n",
        "\n",
        "# Convert the data to a pandas DataFrame\n",
        "df = pd.DataFrame(rows)\n",
        "\n",
        "# Set the first row as the header\n",
        "df.columns = df.iloc[0]\n",
        "df = df.drop(0)"
      ]
    },
    {
      "cell_type": "code",
      "execution_count": 47,
      "metadata": {
        "colab": {
          "base_uri": "https://localhost:8080/"
        },
        "id": "HjgT3xSR_UaI",
        "outputId": "7a659d3f-0ec2-4982-b7f4-47d3b2f1d61f"
      },
      "outputs": [
        {
          "output_type": "execute_result",
          "data": {
            "text/plain": [
              "0\n",
              "PAYBILL NO          object\n",
              "SUB COUNTY          object\n",
              "REGION              object\n",
              "Cluster             object\n",
              "County              object\n",
              "Site                object\n",
              "Month               object\n",
              "Contribution        object\n",
              "Compensation        object\n",
              "Deaths_per_Month    object\n",
              "dtype: object"
            ]
          },
          "metadata": {},
          "execution_count": 47
        }
      ],
      "source": [
        "#cheking the data type\n",
        "df.dtypes"
      ]
    },
    {
      "cell_type": "code",
      "execution_count": 48,
      "metadata": {
        "colab": {
          "base_uri": "https://localhost:8080/"
        },
        "id": "ifbNd6aQhBPg",
        "outputId": "a00f62b5-0708-4979-b710-c617431e1f02"
      },
      "outputs": [
        {
          "output_type": "execute_result",
          "data": {
            "text/plain": [
              "0\n",
              "PAYBILL NO          0\n",
              "SUB COUNTY          0\n",
              "REGION              0\n",
              "Cluster             0\n",
              "County              0\n",
              "Site                0\n",
              "Month               0\n",
              "Contribution        0\n",
              "Compensation        0\n",
              "Deaths_per_Month    0\n",
              "dtype: int64"
            ]
          },
          "metadata": {},
          "execution_count": 48
        }
      ],
      "source": [
        "# Check if there maybe any missing data\n",
        "df.isnull().sum()"
      ]
    },
    {
      "cell_type": "code",
      "source": [
        "# Remove commas from the numeric columns and convert to float\n",
        "df['Contribution'] = df['Contribution'].astype(str).str.replace(',', '').astype(float)\n",
        "df['Compensation'] = df['Compensation'].astype(str).str.replace(',', '').astype(float)\n",
        "df['Deaths_per_Month'] = df['Deaths_per_Month'].astype(str).str.replace(',', '').astype(float)\n",
        "\n",
        "# Inspect the cleaned data\n",
        "df.head()"
      ],
      "metadata": {
        "colab": {
          "base_uri": "https://localhost:8080/",
          "height": 310
        },
        "id": "gD3c-Sz_cEwk",
        "outputId": "8ecd6ca4-beda-4198-89a5-e9c268fe0144"
      },
      "execution_count": 51,
      "outputs": [
        {
          "output_type": "execute_result",
          "data": {
            "text/plain": [
              "0 PAYBILL NO SUB COUNTY   REGION Cluster   County        Site     Month  \\\n",
              "1    4068299     KIBERA  Nairobi       1  Nairobi  Sub County   January   \n",
              "2    4068299     KIBERA  Nairobi       1  Nairobi  Sub County  February   \n",
              "3    4068299     KIBERA  Nairobi       1  Nairobi  Sub County     March   \n",
              "4    4068299     KIBERA  Nairobi       1  Nairobi  Sub County     April   \n",
              "5    4068299     KIBERA  Nairobi       1  Nairobi  Sub County       May   \n",
              "\n",
              "0  Contribution  Compensation  Deaths_per_Month  \n",
              "1      976470.0      610000.0              13.0  \n",
              "2      755400.0      660000.0              14.0  \n",
              "3      742030.0      740000.0              16.0  \n",
              "4      717701.0      940000.0              20.0  \n",
              "5      851222.0      250000.0               5.0  "
            ],
            "text/html": [
              "\n",
              "  <div id=\"df-3a328d70-ba89-401f-b186-88fabd3f0afb\" class=\"colab-df-container\">\n",
              "    <div>\n",
              "<style scoped>\n",
              "    .dataframe tbody tr th:only-of-type {\n",
              "        vertical-align: middle;\n",
              "    }\n",
              "\n",
              "    .dataframe tbody tr th {\n",
              "        vertical-align: top;\n",
              "    }\n",
              "\n",
              "    .dataframe thead th {\n",
              "        text-align: right;\n",
              "    }\n",
              "</style>\n",
              "<table border=\"1\" class=\"dataframe\">\n",
              "  <thead>\n",
              "    <tr style=\"text-align: right;\">\n",
              "      <th></th>\n",
              "      <th>PAYBILL NO</th>\n",
              "      <th>SUB COUNTY</th>\n",
              "      <th>REGION</th>\n",
              "      <th>Cluster</th>\n",
              "      <th>County</th>\n",
              "      <th>Site</th>\n",
              "      <th>Month</th>\n",
              "      <th>Contribution</th>\n",
              "      <th>Compensation</th>\n",
              "      <th>Deaths_per_Month</th>\n",
              "    </tr>\n",
              "  </thead>\n",
              "  <tbody>\n",
              "    <tr>\n",
              "      <th>1</th>\n",
              "      <td>4068299</td>\n",
              "      <td>KIBERA</td>\n",
              "      <td>Nairobi</td>\n",
              "      <td>1</td>\n",
              "      <td>Nairobi</td>\n",
              "      <td>Sub County</td>\n",
              "      <td>January</td>\n",
              "      <td>976470.0</td>\n",
              "      <td>610000.0</td>\n",
              "      <td>13.0</td>\n",
              "    </tr>\n",
              "    <tr>\n",
              "      <th>2</th>\n",
              "      <td>4068299</td>\n",
              "      <td>KIBERA</td>\n",
              "      <td>Nairobi</td>\n",
              "      <td>1</td>\n",
              "      <td>Nairobi</td>\n",
              "      <td>Sub County</td>\n",
              "      <td>February</td>\n",
              "      <td>755400.0</td>\n",
              "      <td>660000.0</td>\n",
              "      <td>14.0</td>\n",
              "    </tr>\n",
              "    <tr>\n",
              "      <th>3</th>\n",
              "      <td>4068299</td>\n",
              "      <td>KIBERA</td>\n",
              "      <td>Nairobi</td>\n",
              "      <td>1</td>\n",
              "      <td>Nairobi</td>\n",
              "      <td>Sub County</td>\n",
              "      <td>March</td>\n",
              "      <td>742030.0</td>\n",
              "      <td>740000.0</td>\n",
              "      <td>16.0</td>\n",
              "    </tr>\n",
              "    <tr>\n",
              "      <th>4</th>\n",
              "      <td>4068299</td>\n",
              "      <td>KIBERA</td>\n",
              "      <td>Nairobi</td>\n",
              "      <td>1</td>\n",
              "      <td>Nairobi</td>\n",
              "      <td>Sub County</td>\n",
              "      <td>April</td>\n",
              "      <td>717701.0</td>\n",
              "      <td>940000.0</td>\n",
              "      <td>20.0</td>\n",
              "    </tr>\n",
              "    <tr>\n",
              "      <th>5</th>\n",
              "      <td>4068299</td>\n",
              "      <td>KIBERA</td>\n",
              "      <td>Nairobi</td>\n",
              "      <td>1</td>\n",
              "      <td>Nairobi</td>\n",
              "      <td>Sub County</td>\n",
              "      <td>May</td>\n",
              "      <td>851222.0</td>\n",
              "      <td>250000.0</td>\n",
              "      <td>5.0</td>\n",
              "    </tr>\n",
              "  </tbody>\n",
              "</table>\n",
              "</div>\n",
              "    <div class=\"colab-df-buttons\">\n",
              "\n",
              "  <div class=\"colab-df-container\">\n",
              "    <button class=\"colab-df-convert\" onclick=\"convertToInteractive('df-3a328d70-ba89-401f-b186-88fabd3f0afb')\"\n",
              "            title=\"Convert this dataframe to an interactive table.\"\n",
              "            style=\"display:none;\">\n",
              "\n",
              "  <svg xmlns=\"http://www.w3.org/2000/svg\" height=\"24px\" viewBox=\"0 -960 960 960\">\n",
              "    <path d=\"M120-120v-720h720v720H120Zm60-500h600v-160H180v160Zm220 220h160v-160H400v160Zm0 220h160v-160H400v160ZM180-400h160v-160H180v160Zm440 0h160v-160H620v160ZM180-180h160v-160H180v160Zm440 0h160v-160H620v160Z\"/>\n",
              "  </svg>\n",
              "    </button>\n",
              "\n",
              "  <style>\n",
              "    .colab-df-container {\n",
              "      display:flex;\n",
              "      gap: 12px;\n",
              "    }\n",
              "\n",
              "    .colab-df-convert {\n",
              "      background-color: #E8F0FE;\n",
              "      border: none;\n",
              "      border-radius: 50%;\n",
              "      cursor: pointer;\n",
              "      display: none;\n",
              "      fill: #1967D2;\n",
              "      height: 32px;\n",
              "      padding: 0 0 0 0;\n",
              "      width: 32px;\n",
              "    }\n",
              "\n",
              "    .colab-df-convert:hover {\n",
              "      background-color: #E2EBFA;\n",
              "      box-shadow: 0px 1px 2px rgba(60, 64, 67, 0.3), 0px 1px 3px 1px rgba(60, 64, 67, 0.15);\n",
              "      fill: #174EA6;\n",
              "    }\n",
              "\n",
              "    .colab-df-buttons div {\n",
              "      margin-bottom: 4px;\n",
              "    }\n",
              "\n",
              "    [theme=dark] .colab-df-convert {\n",
              "      background-color: #3B4455;\n",
              "      fill: #D2E3FC;\n",
              "    }\n",
              "\n",
              "    [theme=dark] .colab-df-convert:hover {\n",
              "      background-color: #434B5C;\n",
              "      box-shadow: 0px 1px 3px 1px rgba(0, 0, 0, 0.15);\n",
              "      filter: drop-shadow(0px 1px 2px rgba(0, 0, 0, 0.3));\n",
              "      fill: #FFFFFF;\n",
              "    }\n",
              "  </style>\n",
              "\n",
              "    <script>\n",
              "      const buttonEl =\n",
              "        document.querySelector('#df-3a328d70-ba89-401f-b186-88fabd3f0afb button.colab-df-convert');\n",
              "      buttonEl.style.display =\n",
              "        google.colab.kernel.accessAllowed ? 'block' : 'none';\n",
              "\n",
              "      async function convertToInteractive(key) {\n",
              "        const element = document.querySelector('#df-3a328d70-ba89-401f-b186-88fabd3f0afb');\n",
              "        const dataTable =\n",
              "          await google.colab.kernel.invokeFunction('convertToInteractive',\n",
              "                                                    [key], {});\n",
              "        if (!dataTable) return;\n",
              "\n",
              "        const docLinkHtml = 'Like what you see? Visit the ' +\n",
              "          '<a target=\"_blank\" href=https://colab.research.google.com/notebooks/data_table.ipynb>data table notebook</a>'\n",
              "          + ' to learn more about interactive tables.';\n",
              "        element.innerHTML = '';\n",
              "        dataTable['output_type'] = 'display_data';\n",
              "        await google.colab.output.renderOutput(dataTable, element);\n",
              "        const docLink = document.createElement('div');\n",
              "        docLink.innerHTML = docLinkHtml;\n",
              "        element.appendChild(docLink);\n",
              "      }\n",
              "    </script>\n",
              "  </div>\n",
              "\n",
              "\n",
              "<div id=\"df-8ce72067-468a-4a55-bf7b-b8d55ad70d8f\">\n",
              "  <button class=\"colab-df-quickchart\" onclick=\"quickchart('df-8ce72067-468a-4a55-bf7b-b8d55ad70d8f')\"\n",
              "            title=\"Suggest charts\"\n",
              "            style=\"display:none;\">\n",
              "\n",
              "<svg xmlns=\"http://www.w3.org/2000/svg\" height=\"24px\"viewBox=\"0 0 24 24\"\n",
              "     width=\"24px\">\n",
              "    <g>\n",
              "        <path d=\"M19 3H5c-1.1 0-2 .9-2 2v14c0 1.1.9 2 2 2h14c1.1 0 2-.9 2-2V5c0-1.1-.9-2-2-2zM9 17H7v-7h2v7zm4 0h-2V7h2v10zm4 0h-2v-4h2v4z\"/>\n",
              "    </g>\n",
              "</svg>\n",
              "  </button>\n",
              "\n",
              "<style>\n",
              "  .colab-df-quickchart {\n",
              "      --bg-color: #E8F0FE;\n",
              "      --fill-color: #1967D2;\n",
              "      --hover-bg-color: #E2EBFA;\n",
              "      --hover-fill-color: #174EA6;\n",
              "      --disabled-fill-color: #AAA;\n",
              "      --disabled-bg-color: #DDD;\n",
              "  }\n",
              "\n",
              "  [theme=dark] .colab-df-quickchart {\n",
              "      --bg-color: #3B4455;\n",
              "      --fill-color: #D2E3FC;\n",
              "      --hover-bg-color: #434B5C;\n",
              "      --hover-fill-color: #FFFFFF;\n",
              "      --disabled-bg-color: #3B4455;\n",
              "      --disabled-fill-color: #666;\n",
              "  }\n",
              "\n",
              "  .colab-df-quickchart {\n",
              "    background-color: var(--bg-color);\n",
              "    border: none;\n",
              "    border-radius: 50%;\n",
              "    cursor: pointer;\n",
              "    display: none;\n",
              "    fill: var(--fill-color);\n",
              "    height: 32px;\n",
              "    padding: 0;\n",
              "    width: 32px;\n",
              "  }\n",
              "\n",
              "  .colab-df-quickchart:hover {\n",
              "    background-color: var(--hover-bg-color);\n",
              "    box-shadow: 0 1px 2px rgba(60, 64, 67, 0.3), 0 1px 3px 1px rgba(60, 64, 67, 0.15);\n",
              "    fill: var(--button-hover-fill-color);\n",
              "  }\n",
              "\n",
              "  .colab-df-quickchart-complete:disabled,\n",
              "  .colab-df-quickchart-complete:disabled:hover {\n",
              "    background-color: var(--disabled-bg-color);\n",
              "    fill: var(--disabled-fill-color);\n",
              "    box-shadow: none;\n",
              "  }\n",
              "\n",
              "  .colab-df-spinner {\n",
              "    border: 2px solid var(--fill-color);\n",
              "    border-color: transparent;\n",
              "    border-bottom-color: var(--fill-color);\n",
              "    animation:\n",
              "      spin 1s steps(1) infinite;\n",
              "  }\n",
              "\n",
              "  @keyframes spin {\n",
              "    0% {\n",
              "      border-color: transparent;\n",
              "      border-bottom-color: var(--fill-color);\n",
              "      border-left-color: var(--fill-color);\n",
              "    }\n",
              "    20% {\n",
              "      border-color: transparent;\n",
              "      border-left-color: var(--fill-color);\n",
              "      border-top-color: var(--fill-color);\n",
              "    }\n",
              "    30% {\n",
              "      border-color: transparent;\n",
              "      border-left-color: var(--fill-color);\n",
              "      border-top-color: var(--fill-color);\n",
              "      border-right-color: var(--fill-color);\n",
              "    }\n",
              "    40% {\n",
              "      border-color: transparent;\n",
              "      border-right-color: var(--fill-color);\n",
              "      border-top-color: var(--fill-color);\n",
              "    }\n",
              "    60% {\n",
              "      border-color: transparent;\n",
              "      border-right-color: var(--fill-color);\n",
              "    }\n",
              "    80% {\n",
              "      border-color: transparent;\n",
              "      border-right-color: var(--fill-color);\n",
              "      border-bottom-color: var(--fill-color);\n",
              "    }\n",
              "    90% {\n",
              "      border-color: transparent;\n",
              "      border-bottom-color: var(--fill-color);\n",
              "    }\n",
              "  }\n",
              "</style>\n",
              "\n",
              "  <script>\n",
              "    async function quickchart(key) {\n",
              "      const quickchartButtonEl =\n",
              "        document.querySelector('#' + key + ' button');\n",
              "      quickchartButtonEl.disabled = true;  // To prevent multiple clicks.\n",
              "      quickchartButtonEl.classList.add('colab-df-spinner');\n",
              "      try {\n",
              "        const charts = await google.colab.kernel.invokeFunction(\n",
              "            'suggestCharts', [key], {});\n",
              "      } catch (error) {\n",
              "        console.error('Error during call to suggestCharts:', error);\n",
              "      }\n",
              "      quickchartButtonEl.classList.remove('colab-df-spinner');\n",
              "      quickchartButtonEl.classList.add('colab-df-quickchart-complete');\n",
              "    }\n",
              "    (() => {\n",
              "      let quickchartButtonEl =\n",
              "        document.querySelector('#df-8ce72067-468a-4a55-bf7b-b8d55ad70d8f button');\n",
              "      quickchartButtonEl.style.display =\n",
              "        google.colab.kernel.accessAllowed ? 'block' : 'none';\n",
              "    })();\n",
              "  </script>\n",
              "</div>\n",
              "\n",
              "    </div>\n",
              "  </div>\n"
            ],
            "application/vnd.google.colaboratory.intrinsic+json": {
              "type": "dataframe",
              "variable_name": "df",
              "summary": "{\n  \"name\": \"df\",\n  \"rows\": 340,\n  \"fields\": [\n    {\n      \"column\": \"PAYBILL NO\",\n      \"properties\": {\n        \"dtype\": \"category\",\n        \"num_unique_values\": 68,\n        \"samples\": [\n          \"964567\",\n          \"4068331\",\n          \"4068307\"\n        ],\n        \"semantic_type\": \"\",\n        \"description\": \"\"\n      }\n    },\n    {\n      \"column\": \"SUB COUNTY\",\n      \"properties\": {\n        \"dtype\": \"category\",\n        \"num_unique_values\": 68,\n        \"samples\": [\n          \"Expansion(Kitui,Narok,Bomet,Kajiado)\",\n          \"RUARAKA\",\n          \"WESTLANDS\"\n        ],\n        \"semantic_type\": \"\",\n        \"description\": \"\"\n      }\n    },\n    {\n      \"column\": \"REGION\",\n      \"properties\": {\n        \"dtype\": \"category\",\n        \"num_unique_values\": 9,\n        \"samples\": [\n          \"Eastern\",\n          \"Nyanza\",\n          \"Central\"\n        ],\n        \"semantic_type\": \"\",\n        \"description\": \"\"\n      }\n    },\n    {\n      \"column\": \"Cluster\",\n      \"properties\": {\n        \"dtype\": \"category\",\n        \"num_unique_values\": 4,\n        \"samples\": [\n          \"2\",\n          \"3\",\n          \"1\"\n        ],\n        \"semantic_type\": \"\",\n        \"description\": \"\"\n      }\n    },\n    {\n      \"column\": \"County\",\n      \"properties\": {\n        \"dtype\": \"category\",\n        \"num_unique_values\": 27,\n        \"samples\": [\n          \"Vihiga\",\n          \"Nyeri\",\n          \"Bungoma\"\n        ],\n        \"semantic_type\": \"\",\n        \"description\": \"\"\n      }\n    },\n    {\n      \"column\": \"Site\",\n      \"properties\": {\n        \"dtype\": \"category\",\n        \"num_unique_values\": 3,\n        \"samples\": [\n          \"Sub County\",\n          \"Expansions\",\n          \"County\"\n        ],\n        \"semantic_type\": \"\",\n        \"description\": \"\"\n      }\n    },\n    {\n      \"column\": \"Month\",\n      \"properties\": {\n        \"dtype\": \"category\",\n        \"num_unique_values\": 5,\n        \"samples\": [\n          \"February\",\n          \"May\",\n          \"March\"\n        ],\n        \"semantic_type\": \"\",\n        \"description\": \"\"\n      }\n    },\n    {\n      \"column\": \"Contribution\",\n      \"properties\": {\n        \"dtype\": \"number\",\n        \"std\": 252986.01107985806,\n        \"min\": 8300.0,\n        \"max\": 1156057.0,\n        \"num_unique_values\": 335,\n        \"samples\": [\n          163200.0,\n          910088.0,\n          112100.0\n        ],\n        \"semantic_type\": \"\",\n        \"description\": \"\"\n      }\n    },\n    {\n      \"column\": \"Compensation\",\n      \"properties\": {\n        \"dtype\": \"number\",\n        \"std\": 194846.09310940775,\n        \"min\": 0.0,\n        \"max\": 1180000.0,\n        \"num_unique_values\": 39,\n        \"samples\": [\n          450000.0,\n          800000.0,\n          250000.0\n        ],\n        \"semantic_type\": \"\",\n        \"description\": \"\"\n      }\n    },\n    {\n      \"column\": \"Deaths_per_Month\",\n      \"properties\": {\n        \"dtype\": \"number\",\n        \"std\": 3.968629546259869,\n        \"min\": 0.0,\n        \"max\": 24.0,\n        \"num_unique_values\": 22,\n        \"samples\": [\n          13.0,\n          4.0,\n          8.0\n        ],\n        \"semantic_type\": \"\",\n        \"description\": \"\"\n      }\n    }\n  ]\n}"
            }
          },
          "metadata": {},
          "execution_count": 51
        }
      ]
    },
    {
      "cell_type": "markdown",
      "metadata": {
        "id": "ED_Nr72pKIUC"
      },
      "source": [
        "## Explanatory data analysis(EDA)\n",
        "The graphical exploration/ representation of data (1977, John Turkey). From this we are able to form hypothesess for our data for further analyses or study\n",
        "‘Exploratory data analysis’ is an attitude, a state of flexibility, a willingness to look for those things that we believe are not there, as well as those we believe to be there.”"
      ]
    },
    {
      "cell_type": "code",
      "execution_count": 53,
      "metadata": {
        "colab": {
          "base_uri": "https://localhost:8080/",
          "height": 562
        },
        "id": "LMN0DemJMPa6",
        "outputId": "a76f65f6-3bfb-4407-aafd-72bf351fdf6b"
      },
      "outputs": [
        {
          "output_type": "display_data",
          "data": {
            "text/plain": [
              "<Figure size 1400x800 with 1 Axes>"
            ],
            "image/png": "[encoded data removed]"
          },
          "metadata": {}
        }
      ],
      "source": [
        "# “Graphs force us to note the unexpected; nothing could be more important.”\n",
        "#Lets start by analyzing the monthly trends for contributions, compensation amounts and the number of deaths\n",
        "#Converting the Month column to a categorical type with a proper order\n",
        "# Assuming transformed_data is your DataFrame\n",
        "\n",
        "import pandas as pd\n",
        "import matplotlib.pyplot as plt\n",
        "\n",
        "\n",
        "\n",
        "# Sort the DataFrame by Month\n",
        "df = df.sort_values(by='Month')\n",
        "\n",
        "# Plotting trends\n",
        "plt.figure(figsize=(14, 8))\n",
        "for col in ['Contribution', 'Compensation', 'Deaths_per_Month']:\n",
        "    plt.plot(df['Month'], df[col], label=col)\n",
        "plt.xlabel('Month')\n",
        "plt.ylabel('Values')\n",
        "plt.title('Trend Analysis')\n",
        "plt.legend()\n",
        "plt.grid(True)\n",
        "plt.show()\n"
      ]
    },
    {
      "cell_type": "code",
      "source": [
        "import matplotlib.pyplot as plt\n",
        "\n",
        "# Group the data by month and calculate the total compensation for each month\n",
        "monthly_compensation = df.groupby('Month')['Compensation'].sum()\n",
        "\n",
        "# Ensure months are in the correct order (January to May)\n",
        "month_order = ['January', 'February', 'March', 'April', 'May']\n",
        "monthly_compensation = monthly_compensation.reindex(month_order)\n",
        "\n",
        "# Convert compensation to millions\n",
        "monthly_compensation_millions = monthly_compensation / 1_000_000\n",
        "\n",
        "# Create a bar chart to visualize the trend\n",
        "plt.figure(figsize=(10, 6))  # Adjust figure size as needed\n",
        "ax = monthly_compensation_millions.plot(kind='bar')\n",
        "plt.title('Compensation Trend Over Months (in Millions)')\n",
        "plt.xlabel('Month')\n",
        "plt.ylabel('Total Compensation (Millions)')\n",
        "plt.xticks(rotation=45)  # Rotate x-axis labels for better readability\n",
        "\n",
        "# Add labels above each bar with 'M' to indicate millions\n",
        "for p in ax.patches:\n",
        "    ax.annotate(f'{p.get_height():.2f}M', (p.get_x() + p.get_width() / 2., p.get_height()),\n",
        "                ha='center', va='center', fontsize=10, xytext=(0, 5), textcoords='offset points')\n",
        "\n",
        "plt.tight_layout()  # Adjust layout to prevent labels from overlapping\n",
        "plt.show()"
      ],
      "metadata": {
        "colab": {
          "base_uri": "https://localhost:8080/",
          "height": 553
        },
        "id": "q5s0PTHSdZkS",
        "outputId": "1a64b797-f1f1-44cc-f8eb-6f34eb527259"
      },
      "execution_count": 60,
      "outputs": [
        {
          "output_type": "display_data",
          "data": {
            "text/plain": [
              "<Figure size 1000x600 with 1 Axes>"
            ],
            "image/png": "[encoded data removed]"
          },
          "metadata": {}
        }
      ]
    }
  ],
  "metadata": {
    "colab": {
      "provenance": [],
      "include_colab_link": true
    },
    "kernelspec": {
      "display_name": "Python 3",
      "name": "python3"
    },
    "language_info": {
      "name": "python"
    }
  },
  "nbformat": 4,
  "nbformat_minor": 0
}