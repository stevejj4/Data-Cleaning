{
  "cells": [
    {
      "cell_type": "markdown",
      "metadata": {
        "id": "view-in-github",
        "colab_type": "text"
      },
      "source": [
        "<a href=\"https://colab.research.google.com/github/stevejj4/Data-Cleaning/blob/main/SUN_Report.ipynb\" target=\"_parent\"><img src=\"https://colab.research.google.com/assets/colab-badge.svg\" alt=\"Open In Colab\"/></a>"
      ]
    },
    {
      "cell_type": "code",
      "execution_count": 43,
      "metadata": {
        "id": "XfrsavSRYRpR"
      },
      "outputs": [],
      "source": [
        "import pandas as pd\n",
        "from google.colab import auth\n",
        "import gspread\n",
        "from google.auth import default\n",
        "\n",
        "# Authorize Google Colab\n",
        "auth.authenticate_user()\n",
        "\n",
        "# Credentials for Google Sheets\n",
        "creds, _ = default()\n",
        "gc = gspread.authorize(creds)\n",
        "\n",
        "# Load the Google Sheet\n",
        "spreadsheet = gc.open('SUN_Dashboard')\n",
        "\n",
        "# Check if the sheet 'transformed' exists and create it if not\n",
        "try:\n",
        "    transformed_sheet = spreadsheet.worksheet('transformed')\n",
        "except gspread.exceptions.WorksheetNotFound:\n",
        "    transformed_sheet = spreadsheet.add_worksheet(title='transformed', rows=\"1000\", cols=\"20\")\n",
        "\n",
        "# Load the original data\n",
        "worksheet = spreadsheet.sheet1\n",
        "rows = worksheet.get_all_values()\n",
        "\n",
        "# Create DataFrame from the sheet data\n",
        "df = pd.DataFrame(rows)\n",
        "df.columns = df.iloc[0]  # Set the first row as column names\n",
        "df = df.iloc[1:]  # Remove the first row\n"
      ]
    },
    {
      "cell_type": "code",
      "execution_count": 44,
      "metadata": {
        "colab": {
          "base_uri": "https://localhost:8080/"
        },
        "id": "0zv9NS0Bcjun",
        "outputId": "56e24aef-dc75-4de9-fc6a-c63e86b4e4ea"
      },
      "outputs": [
        {
          "output_type": "execute_result",
          "data": {
            "text/plain": [
              "(68, 21)"
            ]
          },
          "metadata": {},
          "execution_count": 44
        }
      ],
      "source": [
        "df.shape"
      ]
    },
    {
      "cell_type": "code",
      "execution_count": 45,
      "metadata": {
        "colab": {
          "base_uri": "https://localhost:8080/"
        },
        "id": "LAKm4AVebvNK",
        "outputId": "ba10d9b9-0aa8-4f29-9722-304d2eb7e955"
      },
      "outputs": [
        {
          "output_type": "stream",
          "name": "stderr",
          "text": [
            "<ipython-input-45-4bb9bf779074>:34: DeprecationWarning: The order of arguments in worksheet.update() has changed. Please pass values first and range_name secondor used named arguments (range_name=, values=)\n",
            "  transformed_sheet.update('A1', reshaped_data_list)\n"
          ]
        },
        {
          "output_type": "stream",
          "name": "stdout",
          "text": [
            "Data successfully loaded into the transformed sheet.\n"
          ]
        }
      ],
      "source": [
        "# Reshape the data from wide to long format\n",
        "value_vars = ['Contribution', 'Compensation', 'Deaths']\n",
        "months = ['January', 'February', 'March', 'April', 'May']\n",
        "\n",
        "# Initialize an empty list to store the reshaped data\n",
        "reshaped_data = []\n",
        "\n",
        "# Iterate through each row in the DataFrame\n",
        "for _, row in df.iterrows():\n",
        "    for month in months:\n",
        "        reshaped_data.append({\n",
        "            'PAYBILL NO': row['PAYBILL NO'],\n",
        "            'SUB COUNTY': row['SUB COUNTY'],\n",
        "            'REGION': row['REGION'],\n",
        "            'Cluster': row['Cluster'],\n",
        "            'County': row['County'],\n",
        "            'Site': row['Site'],\n",
        "            'Month': month,\n",
        "            'Contribution': row[f'{month}_Contribution'],\n",
        "            'Compensation': row[f'{month}_Compensation'],\n",
        "            'Deaths_per_Month': row[f'{month}_deaths']\n",
        "        })\n",
        "\n",
        "# Create a new DataFrame from the reshaped data\n",
        "reshaped_df = pd.DataFrame(reshaped_data)\n",
        "\n",
        "# Convert the DataFrame to a list of lists\n",
        "reshaped_data_list = [reshaped_df.columns.values.tolist()] + reshaped_df.values.tolist()\n",
        "\n",
        "# Clear the 'transformed' sheet\n",
        "transformed_sheet.clear()\n",
        "\n",
        "# Write the reshaped DataFrame to the 'transformed' sheet\n",
        "transformed_sheet.update('A1', reshaped_data_list)\n",
        "\n",
        "# Print confirmation\n",
        "print('Data successfully loaded into the transformed sheet.')\n"
      ]
    },
    {
      "cell_type": "code",
      "execution_count": 46,
      "metadata": {
        "id": "PeXuUBFUZFhw"
      },
      "outputs": [],
      "source": [
        "# Select the sheet named 'transformed'\n",
        "worksheet = spreadsheet.worksheet('transformed')\n",
        "\n",
        "# Get all the values from the sheet\n",
        "rows = worksheet.get_all_values()\n",
        "\n",
        "# Convert the data to a pandas DataFrame\n",
        "df = pd.DataFrame(rows)\n",
        "\n",
        "# Set the first row as the header\n",
        "df.columns = df.iloc[0]\n",
        "df = df.drop(0)"
      ]
    },
    {
      "cell_type": "code",
      "execution_count": 47,
      "metadata": {
        "colab": {
          "base_uri": "https://localhost:8080/"
        },
        "id": "HjgT3xSR_UaI",
        "outputId": "7a659d3f-0ec2-4982-b7f4-47d3b2f1d61f"
      },
      "outputs": [
        {
          "output_type": "execute_result",
          "data": {
            "text/plain": [
              "0\n",
              "PAYBILL NO          object\n",
              "SUB COUNTY          object\n",
              "REGION              object\n",
              "Cluster             object\n",
              "County              object\n",
              "Site                object\n",
              "Month               object\n",
              "Contribution        object\n",
              "Compensation        object\n",
              "Deaths_per_Month    object\n",
              "dtype: object"
            ]
          },
          "metadata": {},
          "execution_count": 47
        }
      ],
      "source": [
        "#cheking the data type\n",
        "#df.dtypes"
      ]
    },
    {
      "cell_type": "code",
      "execution_count": 64,
      "metadata": {
        "id": "ifbNd6aQhBPg"
      },
      "outputs": [],
      "source": [
        "# Check if there maybe any missing data\n",
        "#df.isnull().sum()"
      ]
    },
    {
      "cell_type": "code",
      "source": [
        "# Remove commas from the numeric columns and convert to float\n",
        "df['Contribution'] = df['Contribution'].astype(str).str.replace(',', '').astype(float)\n",
        "df['Compensation'] = df['Compensation'].astype(str).str.replace(',', '').astype(float)\n",
        "df['Deaths_per_Month'] = df['Deaths_per_Month'].astype(str).str.replace(',', '').astype(float)\n",
        "\n",
        "# Inspect the cleaned data\n",
        "#df.dtypes"
      ],
      "metadata": {
        "id": "gD3c-Sz_cEwk"
      },
      "execution_count": 63,
      "outputs": []
    },
    {
      "cell_type": "markdown",
      "metadata": {
        "id": "ED_Nr72pKIUC"
      },
      "source": [
        "## Explanatory data analysis(EDA)\n",
        "The graphical exploration/ representation of data (1977, John Turkey). From this we are able to form hypothesess for our data for further analyses or study\n",
        "‘Exploratory data analysis’ is an attitude, a state of flexibility, a willingness to look for those things that we believe are not there, as well as those we believe to be there.”"
      ]
    },
    {
      "cell_type": "code",
      "execution_count": 62,
      "metadata": {
        "id": "LMN0DemJMPa6"
      },
      "outputs": [],
      "source": [
        "# “Graphs force us to note the unexpected; nothing could be more important.”\n",
        "#Lets start by analyzing the monthly trends for contributions, compensation amounts and the number of deaths\n",
        "#Converting the Month column to a categorical type with a proper order\n",
        "# Assuming transformed_data is your DataFrame\n",
        "\n"
      ]
    },
    {
      "cell_type": "code",
      "source": [
        "import matplotlib.pyplot as plt\n",
        "\n",
        "# Group the data by month and calculate the total compensation for each month\n",
        "monthly_compensation = df.groupby('Month')['Compensation'].sum()\n",
        "\n",
        "# Ensure months are in the correct order (January to May)\n",
        "month_order = ['January', 'February', 'March', 'April', 'May']\n",
        "monthly_compensation = monthly_compensation.reindex(month_order)\n",
        "\n",
        "# Convert compensation to millions\n",
        "monthly_compensation_millions = monthly_compensation / 1_000_000\n",
        "\n",
        "# Create a figure and axes\n",
        "fig, ax = plt.subplots(figsize=(10, 6))\n",
        "\n",
        "# Plot the bar chart\n",
        "ax.bar(monthly_compensation_millions.index, monthly_compensation_millions.values, label='Bar Chart')\n",
        "\n",
        "# Plot the line graph\n",
        "ax.plot(monthly_compensation_millions.index, monthly_compensation_millions.values, marker='o', color='red', label='Line Graph')\n",
        "\n",
        "# Set the title and labels\n",
        "ax.set_title('Monthly Compensation Trend (in Millions)')\n",
        "ax.set_xlabel('Month')\n",
        "ax.set_ylabel('Total Compensation (Millions)')\n",
        "\n",
        "# Add labels above each bar/point with 'M' to indicate millions\n",
        "for x, y in zip(monthly_compensation_millions.index, monthly_compensation_millions.values):\n",
        "    ax.annotate(f'{y:.2f}M', (x, y), textcoords=\"offset points\", xytext=(0,10), ha='center')\n",
        "\n",
        "# Add a legend\n",
        "ax.legend()\n",
        "\n",
        "# Show the plot\n",
        "plt.tight_layout()\n",
        "plt.show()"
      ],
      "metadata": {
        "colab": {
          "base_uri": "https://localhost:8080/",
          "height": 607
        },
        "id": "q5s0PTHSdZkS",
        "outputId": "6bc08371-78cc-44f2-a097-2c8423fa5e4b"
      },
      "execution_count": 67,
      "outputs": [
        {
          "output_type": "display_data",
          "data": {
            "text/plain": [
              "<Figure size 1000x600 with 1 Axes>"
            ],
            "image/png": "[encoded data removed]"
          },
          "metadata": {}
        }
      ]
    }
  ],
  "metadata": {
    "colab": {
      "provenance": [],
      "include_colab_link": true
    },
    "kernelspec": {
      "display_name": "Python 3",
      "name": "python3"
    },
    "language_info": {
      "name": "python"
    }
  },
  "nbformat": 4,
  "nbformat_minor": 0
}