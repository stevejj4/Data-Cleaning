{
  "nbformat": 4,
  "nbformat_minor": 0,
  "metadata": {
    "colab": {
      "provenance": [],
      "authorship_tag": "ABX9TyMaSUk4HbO4a+qbIBpd1Zve",
      "include_colab_link": true
    },
    "kernelspec": {
      "name": "python3",
      "display_name": "Python 3"
    },
    "language_info": {
      "name": "python"
    }
  },
  "cells": [
    {
      "cell_type": "markdown",
      "metadata": {
        "id": "view-in-github",
        "colab_type": "text"
      },
      "source": [
        "<a href=\"https://colab.research.google.com/github/stevejj4/Data-Cleaning/blob/main/L_Regresion1Var.ipynb\" target=\"_parent\"><img src=\"https://colab.research.google.com/assets/colab-badge.svg\" alt=\"Open In Colab\"/></a>"
      ]
    },
    {
      "cell_type": "code",
      "execution_count": 1,
      "metadata": {
        "id": "19A9EZAuXtzJ"
      },
      "outputs": [],
      "source": [
        "import numpy as np"
      ]
    },
    {
      "cell_type": "code",
      "source": [
        "# Generating some data\n",
        "np.random.seed(0)\n",
        "X = 2 * np.random.random(size=(100, 1))\n",
        "y = 4 + 3 * X + np.random.randn(100, 1)\n",
        "\n",
        "# Adding x0 = 1 to each instance (bias term)\n",
        "X_b = np.c_[np.ones((100, 1)), X]\n",
        "# Initializing thera (parameter)\n",
        "theta = np.random.randn(2, 1)\n"
      ],
      "metadata": {
        "id": "_zq1OwwLZZG6"
      },
      "execution_count": 3,
      "outputs": []
    },
    {
      "cell_type": "code",
      "source": [
        "# Definiting the cost function (Mean Squared Error)\n",
        "\n",
        "def cost_function(X,y, theta):\n",
        "  m = len(y)\n",
        "  predictions = X.dot(theta)\n",
        "  cost = (1/2*m) * np.sum(np.square(predictions - y))\n",
        "  return cost"
      ],
      "metadata": {
        "id": "MUPdfOP5aSw3"
      },
      "execution_count": 4,
      "outputs": []
    },
    {
      "cell_type": "code",
      "source": [
        "#Calculating the initial cost\n",
        "initial_cost = cost_function(X_b, y, theta)\n",
        "initial_cost"
      ],
      "metadata": {
        "colab": {
          "base_uri": "https://localhost:8080/"
        },
        "id": "I88NFN4maujY",
        "outputId": "4b120f34-9b45-4be0-d837-60d2fe41c3e1"
      },
      "execution_count": 5,
      "outputs": [
        {
          "output_type": "execute_result",
          "data": {
            "text/plain": [
              "413315.29004909296"
            ]
          },
          "metadata": {},
          "execution_count": 5
        }
      ]
    }
  ]
}