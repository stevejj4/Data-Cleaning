{
 "cells": [
  {
   "cell_type": "code",
   "execution_count": 12,
   "id": "a376bdad",
   "metadata": {},
   "outputs": [],
   "source": [
    "test_data = [\"1912\", \"1929\", \"1913-1923\",\"(1951)\", \"1994\", \"1934\",\"c. 1915\", \"1995\", \"c. 1912\", \"(1988)\", \"2002\", \"1957-1959\",\n",
    "             \"c. 1955.\", \"c. 1970's\", \"C. 1990-1999\"]\n",
    "\n",
    "bad_chars = [\"(\",\")\",\"c\",\"C\",\".\",\"s\",\"'\", \" \"]\n",
    "\n",
    "stripped_test_data = ['1912', '1929', '1913-1923','1951', '1994', '1934','1915', '1995', '1912','1988', '2002', '1957-1959',\n",
    "                      '1955', '1970', '1990-1999']\n"
   ]
  },
  {
   "cell_type": "code",
   "execution_count": 13,
   "id": "42f56b24",
   "metadata": {},
   "outputs": [],
   "source": [
    "def strip_characters(string):\n",
    "    for char in bad_chars:\n",
    "        string = string.replace(char,\"\")\n",
    "    return string"
   ]
  },
  {
   "cell_type": "code",
   "execution_count": 14,
   "id": "116c4272",
   "metadata": {},
   "outputs": [],
   "source": [
    "def process_date(date):\n",
    "    if '-' in date:\n",
    "        split_date = date.split('-')\n",
    "        date_one = split_date[0]\n",
    "        date_two = split_date[1]\n",
    "        #converting the two numbers into int\n",
    "        date_one = int(date_one)\n",
    "        date_two = int(date_two)\n",
    "        date = (date_one + date_two) / 2\n",
    "        date = round(date)\n",
    "    else:\n",
    "        date = int(date)\n",
    "    return date"
   ]
  },
  {
   "cell_type": "code",
   "execution_count": 15,
   "id": "2876f756",
   "metadata": {},
   "outputs": [],
   "source": [
    "processed_test_data = []"
   ]
  },
  {
   "cell_type": "code",
   "execution_count": 16,
   "id": "003e4048",
   "metadata": {},
   "outputs": [],
   "source": [
    "for d in stripped_test_data:\n",
    "    date = process_date(d)\n",
    "    processed_test_data.append(date)"
   ]
  },
  {
   "cell_type": "code",
   "execution_count": 17,
   "id": "27feedac",
   "metadata": {},
   "outputs": [
    {
     "name": "stdout",
     "output_type": "stream",
     "text": [
      "[1912, 1929, 1918, 1951, 1994, 1934, 1915, 1995, 1912, 1988, 2002, 1958, 1955, 1970, 1994]\n"
     ]
    }
   ],
   "source": [
    "print(processed_test_data)\n"
   ]
  },
  {
   "cell_type": "code",
   "execution_count": null,
   "id": "6df6f6cf",
   "metadata": {},
   "outputs": [],
   "source": []
  }
 ],
 "metadata": {
  "kernelspec": {
   "display_name": "Python 3 (ipykernel)",
   "language": "python",
   "name": "python3"
  },
  "language_info": {
   "codemirror_mode": {
    "name": "ipython",
    "version": 3
   },
   "file_extension": ".py",
   "mimetype": "text/x-python",
   "name": "python",
   "nbconvert_exporter": "python",
   "pygments_lexer": "ipython3",
   "version": "3.9.12"
  }
 },
 "nbformat": 4,
 "nbformat_minor": 5
}
